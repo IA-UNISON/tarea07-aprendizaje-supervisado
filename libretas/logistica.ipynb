{
 "cells": [
  {
   "cell_type": "markdown",
   "metadata": {},
   "source": [
    "<img src=\"imagenes/ia.png\" width=\"250\">"
   ]
  },
  {
   "cell_type": "markdown",
   "metadata": {},
   "source": [
    "\n",
    "# Regresión logística y regularización\n",
    "\n",
    "[**Julio Waissman Vilanova**](http://mat.uson.mx/~juliowaissman/).\n",
    "\n",
    "En esta libreta vamos a revisar el algoritmo básco de la regresión logística y los principios básicos de regularización. Si bien es una primera aprximación, espero que se pueda ilustrar en esta libreta tanto el uso básico de la regresión logística como el efecto de la regularización.\n",
    "\n",
    "Empecemos por inicializar los modulos que vamos a requerir."
   ]
  },
  {
   "cell_type": "code",
   "execution_count": 1,
   "metadata": {
    "collapsed": true
   },
   "outputs": [],
   "source": [
    "%matplotlib inline\n",
    "import numpy as np\n",
    "import matplotlib.pyplot as plt\n",
    "from IPython.display import Image  # Esto es para desplegar imágenes en la libreta"
   ]
  },
  {
   "cell_type": "markdown",
   "metadata": {},
   "source": [
    "## 1. Función logística, función de error *en muestra* y gradiente de la función de error *en muestra*"
   ]
  },
  {
   "cell_type": "markdown",
   "metadata": {},
   "source": [
    "La función logística está dada por \n",
    "\n",
    "$$\n",
    "g(z) = \\frac{1}{1 + e^{-z}},\n",
    "$$\n",
    "\n",
    "la cual es importante que podamos calcular en forma vectorial. Si bien el calculo es de una sola linea, el uso de estas funciones auxiliares facilitan la legibilidad del código.\n",
    "\n",
    "#### Ejercicio 1: Desarrolla la función logística, la cual se calcule para todos los elementos de un ndarray."
   ]
  },
  {
   "cell_type": "code",
   "execution_count": 2,
   "metadata": {
    "collapsed": true
   },
   "outputs": [],
   "source": [
    "def logistica(z):\n",
    "    \"\"\"\n",
    "    Calcula la función logística para cada elemento de z\n",
    "    \n",
    "    @param z: un ndarray\n",
    "    @return: un ndarray de las mismas dimensiones que z\n",
    "    \"\"\"\n",
    "    # Introduce código aqui (una linea de código)\n",
    "    #---------------------------------------------------\n",
    "    return (1/(1+np.exp(-z)))\n",
    "    #---------------------------------------------------\n",
    "    \n",
    "# prueba que efectivamente funciona la función implementada\n",
    "# si el assert es falso regresa un error de aserción (el testunit de los pobres)\n",
    "assert (np.abs(logistica(np.array([-1, 0, 1])) - np.array([ 0.26894142, 0.5, 0.73105858]))).sum() < 1e-6\n"
   ]
  },
  {
   "cell_type": "markdown",
   "metadata": {},
   "source": [
    "Para entender que hace la función logística, vamos a graficarla (sin clavarnos en los valores exactos) en el intervalo [-5, 5]"
   ]
  },
  {
   "cell_type": "code",
   "execution_count": 3,
   "metadata": {},
   "outputs": [
    {
     "data": {
      "image/png": "[encoded data removed]",
      "text/plain": [
       "<matplotlib.figure.Figure at 0x2be49f44cc0>"
      ]
     },
     "metadata": {},
     "output_type": "display_data"
    }
   ],
   "source": [
    "z = np.linspace(-5, 5, 100)\n",
    "with plt.xkcd():\n",
    "    plt.plot( z, logistica(z))\n",
    "    plt.title(u'Función logística', fontsize=20)\n",
    "    plt.xlabel(r'$z$', fontsize=20)\n",
    "    plt.ylabel(r'$\\frac{1}{1 + \\exp(-z)}$', fontsize=26)\n"
   ]
  },
  {
   "cell_type": "markdown",
   "metadata": {},
   "source": [
    "Una vez establecida la función logística, vamos a implementar la función de error en muestra *sin regularizar* que se utiliza típicamente en clasificación binaria, la cual está dada por\n",
    "\n",
    "$$\n",
    "E_{in}(y, \\hat y ) = -\\frac{1}{T} \\sum_{i=1}^T \\left[ y^{(i)}\\log(\\hat{y}^{(i)}) + (1 - y^{(i)})\\log(1 - \\hat{y}^{(i)})\\right],\n",
    "$$\n",
    "\n",
    "donde \n",
    "\n",
    "$$\n",
    "\\hat{y}^{(i)} = g(\\omega^T x_e^{(i)}),\n",
    "$$\n",
    "\n",
    "las cuales fueron ecuaciones revisadas en clase.\n",
    "\n",
    "#### Ejercicio 2: Implementa la función de error en muestra para un conjunto de aprendizaje."
   ]
  },
  {
   "cell_type": "code",
   "execution_count": 6,
   "metadata": {},
   "outputs": [],
   "source": [
    "def error_muestra(w, x, y):\n",
    "    \"\"\"\n",
    "    Calcula el costo de una w dada para el conjunto dee entrenamiento dado por y y x\n",
    "    \n",
    "    @param w: un ndarray de dimensión (n + 1, 1) \n",
    "    @param x: un ndarray de dimensión (T, n + 1) donde la primer columna son puros unos\n",
    "    @param y: un ndarray de dimensión (T, 1) donde cada entrada es 1.0 o 0.0\n",
    "    \n",
    "    @return: un flotante con el costo\n",
    "    \n",
    "    \"\"\" \n",
    "    T = x.shape[0]\n",
    "    \n",
    "    #------------------------------------------------------------------------\n",
    "    # Agregua aqui tu código\n",
    "    y_gorrito=logistica(x.dot(w))\n",
    "    return ((-np.sum(y*np.log(y_gorrito)+(1-y)*np.log(1-y_gorrito)))/T)\n",
    "    \n",
    "    #------------------------------------------------------------------------\n",
    "\n",
    "    \n",
    "# Otra vez el testunit del pobre (ya lo calcule yo, pero puedes hacerlo a mano para estar seguro)\n",
    "w = np.ones((2,1))\n",
    "\n",
    "x = np.array([[1, 10],\n",
    "              [1, -5]])\n",
    "\n",
    "y1 = np.array([[1],\n",
    "               [0]])\n",
    "\n",
    "y2 = np.array([[0],\n",
    "               [1]])\n",
    "\n",
    "y3 = np.array([[0],\n",
    "               [0]])\n",
    "\n",
    "y4 = np.array([[1],\n",
    "               [1]])\n",
    "\n",
    "assert abs(error_muestra(w, x, y1) - 0.01) < 1e-2\n",
    "assert abs(error_muestra(w, x, y2) - 7.5) < 1e-2\n",
    "assert abs(error_muestra(w, x, y3) - 5.5) < 1e-2\n",
    "assert abs(error_muestra(w, x, y4) - 2.0) < 1e-2"
   ]
  },
  {
   "cell_type": "markdown",
   "metadata": {},
   "source": [
    "De la misma manera, para poder implementar las funciones de aprendizaje, vamos a implementar el gradiente de la función de error respecto a $\\omega$, el cuál es (como lo vimos en clase) el siguiente:\n",
    "\n",
    "$$\n",
    "\\frac{\\partial E_{in}}{\\partial \\omega_j} = -\\frac{1}{T} \\sum_{i=1}^T \\left(y^{(i)} - g(\\omega^T x_e^{(i)})\\right)x_j^{(i)} \n",
    "$$\n",
    "\n",
    "y a partir de las ecuaciones individuales de puede obtener $\\nabla_\\omega E_{in}$. Como podemos ver, $\\left(y^{(i)} - g(\\omega^T x_e^{(i)})\\right)$ es un escalar, y es el mismo para todos los atrinutos $x^{(i)}_j$, por lo que el gradiente se puede expresar como\n",
    "\n",
    "$$\n",
    "\\nabla_\\omega E_{in} = -\\frac{1}{T} \\sum_{i=1}^T \\left(y^{(i)} - g(\\omega^T x_e^{(i)})\\right)x^{(i)}.\n",
    "$$\n",
    "\n",
    "\n",
    "Asumimamos entonces que $X = (x^{(1)}, x^{(2)}, \\ldots, x^{(T)})^T$ (esto es, el $i$--ésimo renglón representa una situación u objeto, mientras que la $j$--ésima columna representa los valores que toman los diferentes objetos de un atributo), y $Y = (y^{(1)}, y^{(1)}, \\ldots, y^{(T)})^T$ (un vector columna con los valores de salida del conjunto $X$). El error en muestra se puede calcular (a partir de la ecuación anterior) como:\n",
    "\n",
    "$$\n",
    "\\nabla_\\omega E_{in} = -\\frac{1}{T} X^T \\cdot (Y - g(X_e \\cdot w)),\n",
    "$$\n",
    "donde $X_e$ es la matriz $X$ agregandole al inicio una columna con unos (esto es, el atributo $0$ o valor constante.\n",
    "\n",
    "#### Ejercicio 3: Implementa (con operaciones matriciales) el calculo del gradiente de la función de pérdida."
   ]
  },
  {
   "cell_type": "code",
   "execution_count": 8,
   "metadata": {
    "collapsed": true
   },
   "outputs": [],
   "source": [
    "def gradiente(w, X, Y):\n",
    "    \"\"\"\n",
    "    Calcula el gradiente de la función de pérdida para clasificación binaria, \n",
    "    utilizando una neurona logística, para una theta y conociendo un conjunto de aprendizaje.\n",
    "    \n",
    "    @param w: un ndarray de dimensión (n + 1, 1) \n",
    "    @param X: un ndarray de dimensión (T, n + 1) donde la primer columna son puros unos\n",
    "    @param Y: un ndarray de dimensión (T, 1) donde cada entrada es 1.0 o 0.0\n",
    "    \n",
    "    @return: un ndarray de mismas dimensiones que w\n",
    "    \n",
    "    \"\"\"\n",
    "    T = X.shape[0]\n",
    "\n",
    "    #------------------------------------------------------------------------\n",
    "    # Agregua aqui tu código\n",
    "    return ((-X.T.dot(Y-logistica(X.dot(w))))/T)\n",
    "    #------------------------------------------------------------------------\n",
    "    \n",
    "# Otra vez el testunit del pobre (ya lo calcule yo, pero puedes hacerlo a mano para estar seguro)\n",
    "w = np.ones((2, 1))\n",
    "\n",
    "x = np.array([[1, 10],\n",
    "              [1, -5]])\n",
    "\n",
    "y1 = np.array([[1],\n",
    "               [0]])\n",
    "\n",
    "y2 = np.array([[0],\n",
    "               [1]])\n",
    "\n",
    "y3 = np.array([[0],\n",
    "               [0]])\n",
    "\n",
    "y4 = np.array([[1],\n",
    "               [1]])\n",
    "\n",
    "assert abs(0.00898475 - gradiente(w, x, y1)[0]) < 1e-4\n",
    "assert abs(7.45495097 - gradiente(w, x, y2)[1]) < 1e-4 \n",
    "assert abs(4.95495097 - gradiente(w, x, y3)[1]) < 1e-4 \n",
    "assert abs(-0.49101525 - gradiente(w, x, y4)[0]) < 1e-4     "
   ]
  },
  {
   "cell_type": "markdown",
   "metadata": {},
   "source": [
    "## 2. Regresión logística en acción"
   ]
  },
  {
   "cell_type": "markdown",
   "metadata": {},
   "source": [
    "Ahora vamos a desarrollar las funciones necesarias para realizar el entrenamiento y encontrar la mejor $\\omega$ de acuero a la función de costos y un conjunto de datos de aprendizaje.\n",
    "\n",
    "Para este problema, vamos a utilizar una base de datos sintética proveniente del curso de [Andrew Ng](www.andrewng.org/) que se encuentra en [Coursera](https://www.coursera.org). Supongamos que pertenecemos al departamente de servicios escolares de la UNISON y vamos a modificar el procedimiento de admisión. En lugar de utilizar un solo exámen (EXCOBA) y la información del cardex de la preparatoria, hemos decidido aplicar dos exámenes, uno sicométrico y otro de habilidades estudiantiles. Dichos exámenes se han aplicado el último año aunque no fueron utilizados como criterio. Así, tenemos un historial entre estudiantes aceptados y resultados de los dos exámenes. El objetivo es hacer un método de regresión que nos permita hacer la admisión a la UNISON tomando en cuenta únicamente los dos exámenes y simplificar el proceso. *Recuerda que esto no es verdad, es solo un ejercicio*.\n",
    "\n",
    "Bien, los datos se encuentran en el archivo `admision.txt` el cual se encuentra en formato `cvs` (osea los valores de las columnas separados por comas. Vamos a leer los datos y graficar la información para entender un poco los datos."
   ]
  },
  {
   "cell_type": "code",
   "execution_count": null,
   "metadata": {
    "collapsed": true
   },
   "outputs": [],
   "source": [
    "datos = np.loadtxt('datos/admision.txt', comments='%', delimiter=',')\n",
    "\n",
    "x, y = datos[:,0:-1], datos[:,-1:] \n",
    "x = np.c_[np.ones((x.shape[0], 1)), x]\n",
    "\n",
    "plt.plot(x[y.ravel() == 1, 1], x[y.ravel() == 1, 2], 'sr', label='aceptados') \n",
    "plt.plot(x[y.ravel() == 0, 1], x[y.ravel() == 0, 2], 'ob', label='rechazados')\n",
    "plt.title(u'Ejemplo sintético para regresión logística')\n",
    "plt.xlabel(u'Calificación del primer examen')\n",
    "plt.ylabel(u'Calificación del segundo examen')\n",
    "plt.axis([20, 100, 20, 100])\n",
    "plt.legend(loc=0)\n"
   ]
  },
  {
   "cell_type": "markdown",
   "metadata": {},
   "source": [
    "Vistos los datos un clasificador lineal podría ser una buena solución. Ahora vamos a implementar el método de descenso de gradiente.\n",
    "\n",
    "Para esto recuerda que el método de aprendizaje por descenso de gradiente se basa en actualizar la fórmulación:\n",
    "\n",
    "$$\n",
    "\\omega \\leftarrow \\omega - \\alpha \\nabla_\\omega E_{in} \n",
    "$$\n",
    "\n",
    "#### Ejercicio 4: Implementa el descenso de gradiente para el problema de regresión logística en modo batch."
   ]
  },
  {
   "cell_type": "code",
   "execution_count": null,
   "metadata": {
    "collapsed": true
   },
   "outputs": [],
   "source": [
    "def descenso(x, y, epsilon, tol=1e-4, max_iter=int(1e4), historial=False):\n",
    "    \"\"\"\n",
    "    Descenso de gradiente por lotes para resolver el problema de regresión logística con un conjunto de aprendizaje\n",
    "\n",
    "    @param x: un ndarray de dimensión (T, n + 1) donde la primer columna son puros unos\n",
    "    \n",
    "    @param y: un ndarray de dimensión (T, 1) donde cada entrada es 1.0 o 0.0\n",
    "    \n",
    "    @param epsilon: Un flotante (típicamente pequeño) con la tasa de aprendizaje\n",
    "    \n",
    "    @param tol: Un flotante pequeño como criterio de paro. Por default 1e-4\n",
    "    \n",
    "    @param max_iter: Máximo numero de iteraciones. Por default 1e4\n",
    "    \n",
    "    @param historial: Un booleano para saber si guardamos el historial de la función de pérdida o no\n",
    "    \n",
    "    @return: w, error_hist donde w es ndarray de dimensión (n + 1, 1) y error_hist es un\n",
    "             ndarray de dimensión (max_iter,) con el valor de la función de error en muestra en cada iteración. \n",
    "             Si historial == True, entonces perdida_hist = None.\n",
    "             \n",
    "    \"\"\"\n",
    "    T, n = x.shape[0], x.shape[1] - 1\n",
    "    \n",
    "    w = np.zeros((n + 1, 1))\n",
    "    error_hist = np.zeros(max_iter) if historial else None\n",
    "    \n",
    "    for iter in range(max_iter):\n",
    "        #--------------------------------------------------------------\n",
    "        # Agregar aqui tu código\n",
    "        #\n",
    "        # Recuerda utilizar las funciones que ya has desarrollado\n",
    "\n",
    "\n",
    "\n",
    "\n",
    "\n",
    "\n",
    "\n",
    "        #--------------------------------------------------------------\n",
    "\n",
    "    return w, error_hist\n"
   ]
  },
  {
   "cell_type": "markdown",
   "metadata": {},
   "source": [
    "Para probar la función de aprendizaje, vamos a aplicarla a nuestro problema de admisión. Primero tenemos que hacer una exploración para encontrar el mejor valor de $\\epsilon$. Así que utilizamos el código de abajo para ajustar $\\epsilon$ visualmente. \n",
    "\n",
    "Busca el valor mas grande de $\\epsilon$ tal que el método no se vuelva inestable, te recomiendo que utilices la estratégia de probar con `1e-4`, `5e-4`, `1e-3`, `5e-3`, `1e-2`, `5e-2`, ..."
   ]
  },
  {
   "cell_type": "code",
   "execution_count": null,
   "metadata": {
    "collapsed": true
   },
   "outputs": [],
   "source": [
    "epsilon = 1e-4\n",
    "mi = 50\n",
    "_, error_hist = descenso(x, y, epsilon, tol=1e-4, max_iter=mi, historial=True)\n",
    "\n",
    "plt.plot(np.arange(mi), error_hist)\n",
    "plt.title(r'Evolucion del valor de $E_{in}$ en las primeras iteraciones con $\\epsilon$ = ' + str(epsilon))\n",
    "plt.xlabel('error')\n"
   ]
  },
  {
   "cell_type": "markdown",
   "metadata": {},
   "source": [
    "Una vez encontrado el mejor $\\epsilon$, entonces podemos calcular $\\omega$ (esto va a tardar algo), recuerda que el costo final debe de ser lo más cercano a 0 posible, así que agrega cuantas iteraciones sean necesarias: "
   ]
  },
  {
   "cell_type": "code",
   "execution_count": null,
   "metadata": {
    "collapsed": true
   },
   "outputs": [],
   "source": [
    "w, _ = descenso(x, y, epsilon, max_iter = int(1e6))\n",
    "print(\"Los pesos obtenidos son: \\n{}\".format(w_lotes))\n",
    "print(\"El valor final de la función de error en muestra es: {}\".format(error_muestra(w_lotes, x, y))) "
   ]
  },
  {
   "cell_type": "markdown",
   "metadata": {},
   "source": [
    "Este método nos devuelve $\\omega$, pero esto no es suficiente para decir que tenemos un clasificador, ya que un método de clasificación se compone de dos métodos, uno para **aprender** y otro para **predecir**. Recuerda que para realizar la predicción tenemos que decidir cual es el umbral por el cual consideramos que la clase estimada es 1 (la clase distinguida)."
   ]
  },
  {
   "cell_type": "markdown",
   "metadata": {},
   "source": [
    "#### Ejercicio 5: Desarrolla una función de predicción."
   ]
  },
  {
   "cell_type": "code",
   "execution_count": null,
   "metadata": {
    "collapsed": true
   },
   "outputs": [],
   "source": [
    "def predictor(w, x):\n",
    "    \"\"\"\n",
    "    Predice los valores de y_hat (que solo pueden ser 0 o 1), utilizando el criterio MAP.\n",
    "    \n",
    "    @param w: un ndarray de dimensión (n + 1, 1)\n",
    "    @param x: un ndarray de dimensión (T, n + 1) donde la primer columna son puros unos\n",
    "\n",
    "    @return: y_hat un ndarray de dimensión (T, 1) donde cada entrada es 1.0 o 0.0\n",
    "    \"\"\"\n",
    "    #-------------------------------------------------------------------------------------\n",
    "    # Agrega aqui tu código sin utilizar la función logística\n",
    "    \n",
    " \n",
    "    \n",
    "    \n",
    "    \n",
    "    #--------------------------------------------------------------------------------------\n",
    "\n",
    "    "
   ]
  },
  {
   "cell_type": "markdown",
   "metadata": {},
   "source": [
    "¿Que tan bueno es este clasificador? ¿Es que implementamos bien el método?\n",
    "\n",
    "Vamos a contestar esto por partes. Primero, vamos a graficar los mismos datos pero vamos a agregar la superficie de separación, la cual en este caso sabemos que es una linea recta. Como sabemos el criterio para decidir si un punto pertenece a la clase 1 o cero es si el valor de $\\omega^T x_e^{(i)} \\ge 0$, por lo que la frontera entre la región donde se escoge una clase de otra se encuentra en:\n",
    "\n",
    "$$\n",
    "0 = \\omega_0 + \\omega_1 x_1  + \\omega_2 x_2,\n",
    "$$\n",
    "\n",
    "y despejando:\n",
    "\n",
    "$$\n",
    "x_2 = -\\frac{\\omega_0}{\\omega_2} -\\frac{\\omega_1}{\\omega_2}x_1\n",
    "$$\n",
    "\n",
    "son los pares $(x_1, x_2)$ de valores en la forntera. Al ser estos (en este caso) una linea recta solo necesitamos dos para graficar la superficie de separación. \n"
   ]
  },
  {
   "cell_type": "code",
   "execution_count": null,
   "metadata": {
    "collapsed": true
   },
   "outputs": [],
   "source": [
    "x1_frontera = np.array([20, 100]) #Los valores mínimo y máximo que tenemos en la gráfica de puntos\n",
    "x2_frontera = -(w[0] / w[2]) - (w[1] / w[2]) * x1_frontera\n",
    "\n",
    "plt.plot(x[y.ravel() == 1, 1], x[y.ravel() == 1, 2], 'sr', label='aceptados') \n",
    "plt.plot(x[y.ravel() == 0, 1], x[y.ravel() == 0, 2], 'ob', label='rechazados')\n",
    "plt.plot(x1_frontera, x2_frontera, 'm')\n",
    "plt.title(u'Ejemplo sintético para regresión logística')\n",
    "plt.xlabel(u'Calificación del primer examen')\n",
    "plt.ylabel(u'Calificación del segundo examen')\n",
    "plt.axis([20, 100, 20, 100])\n",
    "plt.legend(loc=0)\n",
    "\n"
   ]
  },
  {
   "cell_type": "markdown",
   "metadata": {},
   "source": [
    "Y para que tengas una idea de lo que debería de salir, anexo una figura obtenida con el código que yo hice:"
   ]
  },
  {
   "cell_type": "code",
   "execution_count": null,
   "metadata": {
    "collapsed": true
   },
   "outputs": [],
   "source": [
    "Image(filename='ejemplo_logistica_1.png')"
   ]
  },
  {
   "cell_type": "markdown",
   "metadata": {},
   "source": [
    "## 3. Generando atributos polinomiales\n",
    "\n",
    "Como podemos ver en las gráficas de arriba, parece ser que la regresión logística aceptaría a algunos estudiantes rechazados y rechazaría a algunos que si fueron en realidad aceptados. En todo método de clasificación hay un grado de error, y eso es parte del poder de generalización de los métodos. \n",
    "\n",
    "Sin embargo, una simple inspección visual muestra que, posiblemente, la regresión lineal no es la mejor solución, ya que la frontera entre las dos clases parece ser más bien una curva.\n",
    "\n",
    "¿Que tal si probamos con un clasificador cuadrático? Un clasificador cuadrático no es más que la regresión logística pero a la que se le agregan todos los atributos que sean una combinación de dos de los atributos. \n",
    "\n",
    "Por ejemplo, si un objeto $x_e = (1, x_1, x_2, x_3)^T$ se aumenta con todas sus componentes cuadráticas, entonces tenemos los atributos\n",
    "\n",
    "$$\n",
    "\\phi_2(x_e) = (1, x_1, x_2, x_3, x_1 x_2, x_1 x_3, x_2 x_3, x_1^2, x_2^2, x_3^2)^T.\n",
    "$$ \n",
    "\n",
    "De la misma manera se pueden obtener clasificadores de orden tres, cuatro, cinco, etc. En general a estos clasificadores se les conoce como **clasificadores polinomiales**. Ahora, para entender bien la idea, vamos a resolver el problema anterior con un clasificador de orden 2. Sin embargo, si luego se quiere hacer el reconocimiento de otros objetos, o cambiar el orden del polinomio, pues se requeriría de reclcular cada vez la expansión polinomial a mano. Esto no es una muy buena práctica, así que vamos a generalizar la obtención de atributos polinomiales con la función `map_poly`, la cual la vamos a desarrollar a continuación."
   ]
  },
  {
   "cell_type": "code",
   "execution_count": null,
   "metadata": {
    "collapsed": true
   },
   "outputs": [],
   "source": [
    "from itertools import combinations_with_replacement\n",
    "\n",
    "def map_poly(grad, x):\n",
    "    \"\"\"\n",
    "    Encuentra las características polinomiales hasta el grado grad de la matriz de datos x, \n",
    "    asumiendo que x[:, 0] es la expansión de orden 0 (un vector de puros unos) y x[1:n, 0]\n",
    "    es la expansión de orden 1 (los valores de cada atributo)\n",
    "    \n",
    "    @param grad: un entero positivo con el grado de expansión\n",
    "    @param x: un ndarray de dimension (T, n + 1) donde n es el número de atributos\n",
    "    \n",
    "    @return: un ndarray de dimensión (T, n_phi + 1) donde\n",
    "             n_phi = \\sum_{i = 1}^grad fact(i + n - 1)/(fact(i) * fact(n - 1))\n",
    "    \"\"\"\n",
    "    \n",
    "    if int(grad) < 2:\n",
    "        raise ValueError('grad debe de ser mayor a 1')\n",
    "    \n",
    "    T, n = x.shape[0], x.shape[1] - 1\n",
    "    atrib = x[:,1:]\n",
    "    x_phi = x.copy()\n",
    "    for i in range(2, int(grad) + 1):\n",
    "        for comb in combinations_with_replacement(range(n), i):\n",
    "            x_phi = np.c_[x_phi, np.prod(atrib[:, comb], axis=1)]\n",
    "    return x_phi        \n"
   ]
  },
  {
   "cell_type": "markdown",
   "metadata": {},
   "source": [
    "#### Ejercicio 6: Realiza el clasificador polinomial de orden 2 de los datos de los exámenes"
   ]
  },
  {
   "cell_type": "code",
   "execution_count": null,
   "metadata": {
    "collapsed": true
   },
   "outputs": [],
   "source": [
    "# Vamos a dar una guia paso a paso de lo que hay que hacer\n",
    "\n",
    "# Encuentra phi_x (x son la expansión polinomial de segundo orden, utiliza la función map_poly\n",
    "phi_x = # <--- Completa el código ----\n",
    "\n",
    "# Genera la theta inicial\n",
    "theta_phi0 = # <--- Completa el código ----\n",
    "\n"
   ]
  },
  {
   "cell_type": "code",
   "execution_count": null,
   "metadata": {
    "collapsed": true
   },
   "outputs": [],
   "source": [
    "# Ahora hay que hacer varias pruebas para seleccionar el mejor valor de epsilon\n",
    "epsilon = # <--- Completa el código ----\n",
    "mi = 50\n",
    "_, error_hist = descenso(phi_x, y, epsilon, tol=1e-4, max_iter=mi, historial=True)\n",
    "\n",
    "plt.plot(np.arange(mi), perdida_hist)\n",
    "plt.title(r'Evolucion del valor de la $E_{in}$ en las primeras iteraciones con $\\epsilon$ = ' + str(epsilon))\n",
    "plt.xlabel('iteraciones')\n",
    "plt.ylabel('error')"
   ]
  },
  {
   "cell_type": "code",
   "execution_count": null,
   "metadata": {
    "collapsed": true
   },
   "outputs": [],
   "source": [
    "# Por último se hace el aprendizaje con el epsilon seleccionado\n",
    "epsilon = # <--- Completa el código ----\n",
    "w_2, _ = descenso(phi_x, y, epsilon, max_iter = int(1e6))\n",
    "print(\"Los pesos obtenidos son: \\n{}\".format(w_lotes))\n",
    "print(\"El valor final de la función de error en muestra es: {}\".format(error_muestra(w_2, phi_x, y))) \n"
   ]
  },
  {
   "cell_type": "markdown",
   "metadata": {},
   "source": [
    "El reusltado debe de ser algo similar a:\n",
    "\n",
    "$$\n",
    "\\theta_\\phi = (15.87, -428.13, -110.51, 1.63, -0.8889, 8.6)^T\n",
    "$$\n",
    "\n",
    "Y esto lo tenemos que graficar. Pero graficar la separación de datos en una proyección en las primeras dos dimensiones, no es tan sencillo como \n",
    "lo hicimos con una separación lineal, así que vamos atener que generar un `contour`, y sobre este graficar los datos. Para esto vamos a desarrollar una función (esta la hago yo porque es un poco dificil y no da luz sobre los temas escenciales)."
   ]
  },
  {
   "cell_type": "code",
   "execution_count": null,
   "metadata": {
    "collapsed": true
   },
   "outputs": [],
   "source": [
    "def plot_separacion2D(x, y, grado, theta_phi):\n",
    "    \"\"\"\n",
    "    Grafíca las primeras dos dimensiones (posiciones 1 y 2) de datos en dos dimensiones \n",
    "    extendidos con un clasificador polinomial así como la separación dada por theta_phi\n",
    "    \n",
    "    \"\"\"\n",
    "    if grado < 2:\n",
    "        raise ValueError('Esta función es para graficar separaciones con polinomios mayores a 1')\n",
    "    \n",
    "    x1_min, x1_max = np.min(x[:,1]), np.max(x[:,1])\n",
    "    x2_min, x2_max = np.min(x[:,2]), np.max(x[:,2])\n",
    "    delta1, delta2 = (x1_max - x1_min) * 0.1, (x2_max - x2_min) * 0.1\n",
    "\n",
    "    spanX1 = np.linspace(x1_min - delta1, x1_max + delta1, 200)\n",
    "    spanX2 = np.linspace(x2_min - delta2, x2_max + delta2, 200)\n",
    "    X1, X2 = np.meshgrid(spanX1, spanX2)\n",
    "        \n",
    "    Z = map_poly(grado, np.c_[np.ones((X1.size, 1)), X1.ravel(), X2.ravel()]).dot(theta_phi)\n",
    "    Z = Z.reshape(X1.shape[0], X1.shape[1])\n",
    "    \n",
    "    plt.contour(X1, X2, Z, [0], linewidths=0.5, colors='k')\n",
    "    plt.contourf(X1, X2, Z, 1, cmap=plt.cm.gray)\n",
    "    plt.plot(x[y.ravel() > 0.5, 1], x[y.ravel() > 0.5, 2], 'sr', label='aceptados')\n",
    "    plt.plot(x[y.ravel() < 0.5, 1], x[y.ravel() < 0.5, 2], 'oy', label='rechazados')\n",
    "    plt.axis([spanX1[0], spanX1[-1], spanX2[0], spanX2[-1]])\n",
    "    "
   ]
  },
  {
   "cell_type": "markdown",
   "metadata": {},
   "source": [
    "Y ahora vamos a probar la función plot_separacion2D con los datos de entrenamiento. El comando tarda, ya que estamos haciendo un grid de 200$\\times$200, y realizando evaluaciones individuales."
   ]
  },
  {
   "cell_type": "code",
   "execution_count": null,
   "metadata": {
    "collapsed": true
   },
   "outputs": [],
   "source": [
    "plot_separacion2D(x, y, 2, res.x.reshape(-1,1))\n",
    "plt.title(u\"Separación con un clasificador cuadrático\")\n",
    "plt.xlabel(u\"Calificación del primer examen\")\n",
    "plt.ylabel(u\"Calificación del segundo examen\")"
   ]
  },
  {
   "cell_type": "markdown",
   "metadata": {},
   "source": [
    "Muy bien, un clasificador polinomial de orden 2 clasifica perfectamente los datos de aprendizaje, y además parece sufucuentemente simple para ser la mejor opción para hacer la predicción.\n",
    "\n",
    "Tomemos ahora una base de datos que si bien es sintética es representativa de una familia de problemas a resolver. Supongamos que estámos opimizando la fase de pruebas dentro de la linea de producción de la empresa *Microprocesadores del Noroeste S.A. de C.V.*. La idea es reducir el banco de pruebas de cada nuevo microprocesador fabricado y en lugar de hacer 50 pruebas, redcirlas a 2. En el conjunto de datos tenemos los valores que sacó cada componente en las dos pruebas seleccionadas, y la decisión que se tomo con cada dispositivo (esta desición se tomo con el banco de 50 reglas). Los datos los podemos visualizar a continuación."
   ]
  },
  {
   "cell_type": "code",
   "execution_count": null,
   "metadata": {
    "collapsed": true
   },
   "outputs": [],
   "source": [
    "datos = np.loadtxt('datos/prod_test.txt', comments='%', delimiter=',')\n",
    "\n",
    "x, y = datos[:,0:-1], datos[:,-1:] \n",
    "x = np.c_[np.ones((x.shape[0], 1)), x]\n",
    "\n",
    "plt.plot(x[y.ravel() == 1, 1], x[y.ravel() == 1, 2], 'sr', label='cumple calidad') \n",
    "plt.plot(x[y.ravel() == 0, 1], x[y.ravel() == 0, 2], 'ob', label='rechazado')\n",
    "plt.title(u'Ejemplo de pruebas de un producto')\n",
    "plt.xlabel(u'Valor obtenido en prueba 1')\n",
    "plt.ylabel(u'Valor obtenido en prueba 2')\n",
    "#plt.axis([20, 100, 20, 100])\n",
    "plt.legend(loc=0)"
   ]
  },
  {
   "cell_type": "markdown",
   "metadata": {},
   "source": [
    "Cláramente este problema no se puede solucionar con un clasificador lineal (1 orden), por lo que hay que probar otros tipos de clasificadores.\n",
    "\n",
    "#### Ejercicio 7: Prueba hacer regresión polinomial para polinomios de orden 2, 4, 6 y 8, y grafica los resultados en una figura cada uno. Recuerda que este ejercicio puede tomar bastante tiempo de cómputo dependiendo tanto del método de optimización seleccionado como de la graficacion, al final agrega una celda de texto donde comentes los resultados .\n",
    "\n",
    "Y para dar una guía de lo que se espera, anexo las imágenes de las gráficas para el polinomio de orden 2 y para el polinomio de orden 8. \n",
    "\n",
    "\n",
    "![](imagenes/ejemplo_logistica_2.png)         ![](imagenes/ejemplo_logistica_3.png)"
   ]
  },
  {
   "cell_type": "code",
   "execution_count": null,
   "metadata": {
    "collapsed": true
   },
   "outputs": [],
   "source": [
    "# Vamos a hacer una pequeña funcion para hacer todo de forma más fácil\n",
    "\n",
    "def aprende_polinomial(x, y, grado):\n",
    "    \"\"\"\n",
    "    Aprende un clasificador polinomial para el conjunto de aprendizaje dado por x (ya extendida) y y\n",
    "    \n",
    "    @param x: un ndarray de dimensión (T, n + 1) donde la primer columna son puros unos\n",
    "    @param y: un ndarray de dimensión (T, 1) donde cada entrada es 1.0 o 0.0\n",
    "    \n",
    "    @return: theta_phi un ndarray con los valores necesarios para theta extendida en el espacio de x_phi.\n",
    "    \n",
    "    \"\"\"\n",
    "    #-------------------------------------------------------------------------------------------------------\n",
    "    # Agrega tu codiggo aqui\n",
    "    #---------------------------------------------------------------------------------------------------------\n",
    "\n",
    "    \n",
    "    \n",
    "# Ahora vamos a utilizar esto para graficar las diferentes curvas\n",
    "for grado in [2, 4, 6, 8]:\n",
    "    #------------------------------------------------\n",
    "    # agregar aqui tu código\n",
    "    #------------------------------------------------\n",
    "\n",
    "    \n",
    "    "
   ]
  },
  {
   "cell_type": "markdown",
   "metadata": {},
   "source": [
    "## 4. Regularización\n",
    "\n",
    "Como podemos ver del ejercicio anterior, es dificil determinar el grado del polinomio, y en algunos casos es demasiado general (subaprendizaje) y en otros demasiado específico (sobreaprendizaje). ¿Que podría ser la solución?, bueno, una solución posible es utilizar un polinomio de alto grado (o relativamente alto), y utilizar la **regularización** para controlar la generalización del algoritmo, a través de una variable $\\lambda$.\n",
    "\n",
    "Recordemos, la función de costos de la regresión logística con regularización es:\n",
    "\n",
    "$$\n",
    "J(\\omega) = -\\frac{1}{T} \\sum_{i=1}^T \\left[ y^{(i)}\\log(\\hat{y}^{(i)}) + (1 - y^{(i)})\\log(1 - \\hat{y}^{(i)})\\right] + \\frac{\\lambda}{2T}\\sum_{j = 1}^n \\omega_j^2,\n",
    "$$\n",
    "\n",
    "que es básicamente la misma que la función de $E_{in}$, pero además se le suma el una constante por el promedio del cuadrado de los parámetros (a excepción de $\\omega_0$). Notese que en este caso lo que vamos a optimizar es una *función de costo* y no el error *en muestra*. El costo se compone de una parte que intenta hacer $E_{in}$ tienda a 0, y otra parte que intenta que el error *en muestra* se parezca (PAC) al error *fuera de muestra*.\n",
    "\n",
    "#### Ejercicio 8: Desarrolla sin utilizar ciclos `for` la forma de calcular el costo para el problema de regresión logística regularizada "
   ]
  },
  {
   "cell_type": "code",
   "execution_count": null,
   "metadata": {
    "collapsed": true
   },
   "outputs": [],
   "source": [
    "def costo_regularizado(theta, x, y, lammbda):\n",
    "    \"\"\"\n",
    "    Función de costo con regularización para la regresión logística para los parámetros theta con\n",
    "    el conjunto de entrenamiento dado por x y y, y la constante de regularización lambda.\n",
    "    \n",
    "    @param theta: un ndarray de dimensión (n + 1, 1) \n",
    "    @param x: un ndarray de dimensión (T, n + 1) donde la primer columna son puros unos\n",
    "    @param y: un ndarray de dimensión (T, 1) donde cada entrada es 1.0 o 0.0\n",
    "    @param lammbda: un escalar mayor o igual a 0 (o 0.0)\n",
    "    \n",
    "    @return: un flotante con el costo\n",
    "    \n",
    "    \"\"\" \n",
    "    #---------------------------------------------------------------------------------------\n",
    "    # Inserta aquí tu código\n",
    "\n",
    "    \n",
    "    \n",
    "    \n",
    "    \n",
    "    \n",
    "    #----------------------------------------------------------------------------------------\n",
    "    \n",
    "# Y para probarlo vamos a hacer un unittest de los pobres, utilizando la base de datos \n",
    "# que tenemos actualmente cargada (prod_test.txt) \n",
    "\n",
    "phi_x = map_poly(6, x)\n",
    "omega_prueba = np.zeros((phi_x.shape[1], 1))\n",
    "\n",
    "assert abs(costo_regularizado(theta_prueba, phi_x, y, 1) - 0.693) <= 0.001"
   ]
  },
  {
   "cell_type": "markdown",
   "metadata": {},
   "source": [
    "Y, por supuesto, para poder utilizar un algoritmo eficiente de optimización, debemos ser capaces de calcular el gradiente de la función.\n",
    "\n",
    "#### Ejercicio 9: Desarrolla, aprovechando al máximo de las ventajas de ndarrays, la función del gradiente con regularización."
   ]
  },
  {
   "cell_type": "code",
   "execution_count": null,
   "metadata": {
    "collapsed": true
   },
   "outputs": [],
   "source": [
    "def gradiente_regularizado(theta, x, y, lammbda):\n",
    "    \"\"\"\n",
    "    Calcula el gradiente del costo de la regresión logística, para una theta, conociendo un conjunto de aprendizaje\n",
    "    y con regularización.\n",
    "    \n",
    "    @param theta: un ndarray de dimensión (n + 1, 1) \n",
    "    @param x: un ndarray de dimensión (T, n + 1) donde la primer columna son puros unos\n",
    "    @param y: un ndarray de dimensión (T, 1) donde cada entrada es 1.0 o 0.0\n",
    "    @param lammbda: un escalar mayor o igual a 0 (o 0.0)\n",
    "    \n",
    "    @return: un ndarray de mismas dimensiones que theta\n",
    "    \n",
    "    \"\"\"\n",
    "    T = x.shape[0]\n",
    "\n",
    "    #------------------------------------------------------------------------\n",
    "    # Agregua aqui tu código\n",
    "    #------------------------------------------------------------------------\n",
    "    \n",
    "\n",
    "    \n",
    "    \n",
    "   #------------------------------------------------------------------------\n",
    "     \n",
    "# Y para probar vamos a hacer esto:\n",
    "phi_x = map_poly(6, x)\n",
    "theta_prueba = np.zeros((phi_x.shape[1], 1))\n",
    "grad_theta_prueba = gradiente_regularizado(theta_prueba, phi_x, y, 1)\n",
    "\n",
    "assert abs(grad_theta_prueba[0] - 8.47e-3) < 1e-5\n",
    "assert abs(grad_theta_prueba[5] - 3.76e-2) < 1e-4\n",
    "assert abs(grad_theta_prueba[-1] - 3.88e-2) < 1e-4"
   ]
  },
  {
   "cell_type": "markdown",
   "metadata": {},
   "source": [
    "Y ya por último queda probar la regresión logística con regularización, por lo que vamos a generar 3 superficies: una *aceptable*, otra con sobreaprendizaje y la última con subaprendizaje.\n",
    "\n",
    "#### Ejercicio 10: Desarrolla las funciones y scriprs necesarios para realizar la regresión logística con un polinomio de grado 8 y con regularización. Grafica la superficie de separación para $\\lambda$ igual a 1 (*aceptable*), 0 (*sobreaprendizaje*), 200 (*subaprendizaje*) .\n",
    "\n",
    "Y de nuevo, como forma de verificar si lo están haciendo bien o no, incluyo dos de las tres figuras que deben obtener, tal como yo las obtuve.\n",
    "\n",
    "![](imagenes/ejemplo_logistica_4.png)\n",
    "\n",
    "![](imagenes/ejemplo_logistica_5.png)\n"
   ]
  },
  {
   "cell_type": "code",
   "execution_count": null,
   "metadata": {
    "collapsed": true
   },
   "outputs": [],
   "source": [
    "# Aqui pues ya no agrego nada de código para guiar el trabajo ya que es \n",
    "# bastante parecido a lo que se hizo en la sección anterior.\n",
    "\n",
    "\n",
    "\n"
   ]
  }
 ],
 "metadata": {
  "kernelspec": {
   "display_name": "Python 3",
   "language": "python",
   "name": "python3"
  },
  "language_info": {
   "codemirror_mode": {
    "name": "ipython",
    "version": 3
   },
   "file_extension": ".py",
   "mimetype": "text/x-python",
   "name": "python",
   "nbconvert_exporter": "python",
   "pygments_lexer": "ipython3",
   "version": "3.6.3"
  }
 },
 "nbformat": 4,
 "nbformat_minor": 2
}
